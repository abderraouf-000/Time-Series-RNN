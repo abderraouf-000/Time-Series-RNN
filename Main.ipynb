{
 "cells": [
  {
   "cell_type": "code",
   "execution_count": 3,
   "metadata": {},
   "outputs": [],
   "source": [
    "import torch\n",
    "import torch.nn as nn\n"
   ]
  },
  {
   "cell_type": "code",
   "execution_count": null,
   "metadata": {},
   "outputs": [],
   "source": [
    "from argparse import Namespace\n",
    "\n",
    "modelArgs = Namespace(\n",
    "    \n",
    "data_csv = 'timeSeriesData.csv',\n",
    "model_state_file = \"model.pth\",\n",
    "seed = 1300,\n",
    "learning_rate = 0.001,\n",
    "# dropout_p = 0.1,\n",
    "batch_size = 128,\n",
    "num_epochs = 40,\n",
    "cuda = True,\n",
    "\n",
    ");"
   ]
  },
  {
   "cell_type": "code",
   "execution_count": 13,
   "metadata": {},
   "outputs": [
    {
     "name": "stdout",
     "output_type": "stream",
     "text": [
      "input_tensor tensor([[1., 1., 1., 1., 1., 1., 1., 1., 1., 1., 1., 1., 1., 1., 1., 1., 1., 1.,\n",
      "         1., 1.]]) with size == torch.Size([1, 20]) \n",
      "\n",
      "hidden_tensor tensor([[0., 0., 0., 0., 0., 0., 0., 0., 0., 0., 0., 0., 0., 0., 0., 0., 0., 0., 0., 0., 0., 0., 0., 0.,\n",
      "         0., 0., 0., 0., 0., 0., 0., 0., 0., 0., 0., 0., 0., 0., 0., 0., 0., 0., 0., 0., 0., 0., 0., 0.,\n",
      "         0., 0., 0., 0., 0., 0., 0., 0., 0., 0., 0., 0., 0., 0., 0., 0., 0., 0., 0., 0., 0., 0., 0., 0.,\n",
      "         0., 0., 0., 0., 0., 0., 0., 0., 0., 0., 0., 0., 0., 0., 0., 0., 0., 0., 0., 0., 0., 0., 0., 0.,\n",
      "         0., 0., 0., 0., 0., 0., 0., 0., 0., 0., 0., 0., 0., 0., 0., 0., 0., 0., 0., 0., 0., 0., 0., 0.,\n",
      "         0., 0., 0., 0., 0., 0., 0., 0.]]) with size == torch.Size([1, 128]) \n",
      "\n",
      "combined_tensor tensor([[1., 1., 1., 1., 1., 1., 1., 1., 1., 1., 1., 1., 1., 1., 1., 1., 1., 1.,\n",
      "         1., 1., 0., 0., 0., 0., 0., 0., 0., 0., 0., 0., 0., 0., 0., 0., 0., 0.,\n",
      "         0., 0., 0., 0., 0., 0., 0., 0., 0., 0., 0., 0., 0., 0., 0., 0., 0., 0.,\n",
      "         0., 0., 0., 0., 0., 0., 0., 0., 0., 0., 0., 0., 0., 0., 0., 0., 0., 0.,\n",
      "         0., 0., 0., 0., 0., 0., 0., 0., 0., 0., 0., 0., 0., 0., 0., 0., 0., 0.,\n",
      "         0., 0., 0., 0., 0., 0., 0., 0., 0., 0., 0., 0., 0., 0., 0., 0., 0., 0.,\n",
      "         0., 0., 0., 0., 0., 0., 0., 0., 0., 0., 0., 0., 0., 0., 0., 0., 0., 0.,\n",
      "         0., 0., 0., 0., 0., 0., 0., 0., 0., 0., 0., 0., 0., 0., 0., 0., 0., 0.,\n",
      "         0., 0., 0., 0.]]) with size == torch.Size([1, 148]) \n",
      "\n",
      "tensor([[0.4887]], grad_fn=<SigmoidBackward0>) tensor([[-0.0325,  0.4975, -0.2499, -0.1111,  0.0657,  0.3726,  0.1896,  0.1415,\n",
      "          0.1965,  0.0593, -0.3631, -0.3285,  0.1961,  0.3190,  0.4556,  0.3769,\n",
      "         -0.0286,  0.2687, -0.0946,  0.5102, -0.1455,  0.1848, -0.1192,  0.0852,\n",
      "         -0.2808, -0.1281,  0.4861,  0.1194,  0.0041, -0.0801, -0.0693, -0.0023,\n",
      "         -0.1215,  0.0916,  0.2827, -0.0261, -0.1115,  0.1245, -0.2079, -0.0289,\n",
      "         -0.3053, -0.1344,  0.3270, -0.0571,  0.3810, -0.0613,  0.2789, -0.2284,\n",
      "          0.3250,  0.0561, -0.1789,  0.2517, -0.1647,  0.0988, -0.0177, -0.1094,\n",
      "          0.3681, -0.2827, -0.0373,  0.0055,  0.6374, -0.2320,  0.2485,  0.1218,\n",
      "         -0.0243,  0.0715,  0.3179, -0.0322,  0.4853, -0.1007,  0.1983,  0.2196,\n",
      "         -0.1632, -0.2308,  0.2291, -0.2772,  0.1682,  0.0864,  0.1660, -0.3107,\n",
      "         -0.0873,  0.0412, -0.3513, -0.0063,  0.2522, -0.0233, -0.0463, -0.3384,\n",
      "          0.1527, -0.0364,  0.0951, -0.0880,  0.4646, -0.1462,  0.3341, -0.3304,\n",
      "         -0.0492, -0.1551, -0.0049, -0.0564, -0.3092,  0.2778,  0.2617,  0.0959,\n",
      "          0.2472,  0.1220, -0.0981,  0.2981, -0.0761,  0.1585, -0.0377,  0.0858,\n",
      "         -0.1082,  0.0274,  0.0639,  0.1171,  0.0335,  0.1483, -0.2793, -0.0674,\n",
      "         -0.0718,  0.1572, -0.1758, -0.0039, -0.1432,  0.1949,  0.0477, -0.0580]],\n",
      "       grad_fn=<AddmmBackward0>)\n"
     ]
    }
   ],
   "source": [
    "class Rnn(nn.Module):\n",
    "\n",
    "    def __init__(self,input_size , hidden_size , output_size):\n",
    "\n",
    "        super(Rnn,self).__init__();\n",
    "        self.hidden_size = hidden_size;\n",
    "        self.input_size = input_size;\n",
    "        self.output_size = output_size;\n",
    "        self.i2h = nn.Linear(self.input_size + self.hidden_size , self.hidden_size);\n",
    "        self.i2o = nn.Linear(self.input_size + self.hidden_size , self.output_size);\n",
    "        self.sigmoid = nn.Sigmoid();\n",
    "    \n",
    "    def forward(self,input_tensor,hidden_tensor):\n",
    "        print(f'input_tensor {input_tensor} with size == {input_tensor.size()} \\n');\n",
    "        print(f'hidden_tensor {hidden_tensor} with size == {hidden_tensor.size()} \\n');\n",
    "\n",
    "        combined = torch.cat((input_tensor , hidden_tensor) , 1);\n",
    "        print(f'combined_tensor {combined} with size == {combined.size()} \\n');\n",
    "        hidden = self.i2h(combined)\n",
    "        output = self.sigmoid(self.i2o(combined));\n",
    "        return output,hidden;\n",
    "\n",
    "\n",
    "    def init_hidden(self):\n",
    "        return torch.zeros(1,self.hidden_size);\n",
    "    \n",
    "\n",
    "\n",
    "\n",
    "rnn = Rnn(20 , 128 , 1)\n",
    "hidden_tensor = rnn.init_hidden();\n",
    "input_tensor = torch.ones(1,20); \n",
    "output, next_hidden = rnn(input_tensor , hidden_tensor);\n",
    "print(output,next_hidden)\n"
   ]
  }
 ],
 "metadata": {
  "kernelspec": {
   "display_name": "Python 3",
   "language": "python",
   "name": "python3"
  },
  "language_info": {
   "codemirror_mode": {
    "name": "ipython",
    "version": 3
   },
   "file_extension": ".py",
   "mimetype": "text/x-python",
   "name": "python",
   "nbconvert_exporter": "python",
   "pygments_lexer": "ipython3",
   "version": "3.10.12"
  }
 },
 "nbformat": 4,
 "nbformat_minor": 2
}
